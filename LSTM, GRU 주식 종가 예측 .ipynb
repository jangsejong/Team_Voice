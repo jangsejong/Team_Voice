{
 "cells": [
  {
   "cell_type": "markdown",
   "metadata": {
    "id": "jAJxpPdg3Z90"
   },
   "source": [
    "- [Amazon](https://finance.yahoo.com/quote/AMZN/history/) 링크를 통해 들어가 주식 정보 다운로드 받아서 사용합니다.\n",
    "- 주식의 **일일 종가(2021/02/13 ~ 2022/02/13)** 1년치 데이터에 대하여 다운로드 하였습니다."
   ]
  },
  {
   "cell_type": "code",
   "execution_count": 44,
   "metadata": {
    "colab": {
     "base_uri": "https://localhost:8080/"
    },
    "id": "rGe8a13av9mo",
    "outputId": "75a32c6a-f30f-4c8c-ed12-d057b3513d3b"
   },
   "outputs": [
    {
     "name": "stdout",
     "output_type": "stream",
     "text": [
      "<class 'pandas.core.frame.DataFrame'>\n",
      "Index: 252 entries, 2021-02-16 to 2022-02-11\n",
      "Data columns (total 6 columns):\n",
      " #   Column     Non-Null Count  Dtype  \n",
      "---  ------     --------------  -----  \n",
      " 0   Open       252 non-null    float64\n",
      " 1   High       252 non-null    float64\n",
      " 2   Low        252 non-null    float64\n",
      " 3   Close      252 non-null    float64\n",
      " 4   Adj Close  252 non-null    float64\n",
      " 5   Volume     252 non-null    int64  \n",
      "dtypes: float64(5), int64(1)\n",
      "memory usage: 13.8+ KB\n"
     ]
    }
   ],
   "source": [
    "import pandas as pd\n",
    "data=pd.read_csv('AMZN.csv', header=0,index_col=\"Date\")\n",
    "data.info()"
   ]
  },
  {
   "cell_type": "code",
   "execution_count": 45,
   "metadata": {
    "colab": {
     "base_uri": "https://localhost:8080/"
    },
    "id": "Yo2S57lLv9mu",
    "outputId": "665d14eb-5b89-4cd0-9445-2198f7c12b91"
   },
   "outputs": [
    {
     "data": {
      "text/html": [
       "<div>\n",
       "<style scoped>\n",
       "    .dataframe tbody tr th:only-of-type {\n",
       "        vertical-align: middle;\n",
       "    }\n",
       "\n",
       "    .dataframe tbody tr th {\n",
       "        vertical-align: top;\n",
       "    }\n",
       "\n",
       "    .dataframe thead th {\n",
       "        text-align: right;\n",
       "    }\n",
       "</style>\n",
       "<table border=\"1\" class=\"dataframe\">\n",
       "  <thead>\n",
       "    <tr style=\"text-align: right;\">\n",
       "      <th></th>\n",
       "      <th>Open</th>\n",
       "      <th>High</th>\n",
       "      <th>Low</th>\n",
       "      <th>Close</th>\n",
       "      <th>Adj Close</th>\n",
       "      <th>Volume</th>\n",
       "    </tr>\n",
       "    <tr>\n",
       "      <th>Date</th>\n",
       "      <th></th>\n",
       "      <th></th>\n",
       "      <th></th>\n",
       "      <th></th>\n",
       "      <th></th>\n",
       "      <th></th>\n",
       "    </tr>\n",
       "  </thead>\n",
       "  <tbody>\n",
       "    <tr>\n",
       "      <th>2021-02-16</th>\n",
       "      <td>3254.050049</td>\n",
       "      <td>3308.300049</td>\n",
       "      <td>3253.590088</td>\n",
       "      <td>3268.949951</td>\n",
       "      <td>3268.949951</td>\n",
       "      <td>2574700</td>\n",
       "    </tr>\n",
       "    <tr>\n",
       "      <th>2021-02-17</th>\n",
       "      <td>3263.600098</td>\n",
       "      <td>3320.909912</td>\n",
       "      <td>3259.500000</td>\n",
       "      <td>3308.639893</td>\n",
       "      <td>3308.639893</td>\n",
       "      <td>3297500</td>\n",
       "    </tr>\n",
       "    <tr>\n",
       "      <th>2021-02-18</th>\n",
       "      <td>3282.419922</td>\n",
       "      <td>3338.000000</td>\n",
       "      <td>3273.939941</td>\n",
       "      <td>3328.229980</td>\n",
       "      <td>3328.229980</td>\n",
       "      <td>3027400</td>\n",
       "    </tr>\n",
       "    <tr>\n",
       "      <th>2021-02-19</th>\n",
       "      <td>3328.229980</td>\n",
       "      <td>3333.500000</td>\n",
       "      <td>3245.750000</td>\n",
       "      <td>3249.899902</td>\n",
       "      <td>3249.899902</td>\n",
       "      <td>4305200</td>\n",
       "    </tr>\n",
       "    <tr>\n",
       "      <th>2021-02-22</th>\n",
       "      <td>3208.129883</td>\n",
       "      <td>3232.320068</td>\n",
       "      <td>3172.260010</td>\n",
       "      <td>3180.739990</td>\n",
       "      <td>3180.739990</td>\n",
       "      <td>3515700</td>\n",
       "    </tr>\n",
       "  </tbody>\n",
       "</table>\n",
       "</div>"
      ],
      "text/plain": [
       "                   Open         High          Low        Close    Adj Close  \\\n",
       "Date                                                                          \n",
       "2021-02-16  3254.050049  3308.300049  3253.590088  3268.949951  3268.949951   \n",
       "2021-02-17  3263.600098  3320.909912  3259.500000  3308.639893  3308.639893   \n",
       "2021-02-18  3282.419922  3338.000000  3273.939941  3328.229980  3328.229980   \n",
       "2021-02-19  3328.229980  3333.500000  3245.750000  3249.899902  3249.899902   \n",
       "2021-02-22  3208.129883  3232.320068  3172.260010  3180.739990  3180.739990   \n",
       "\n",
       "             Volume  \n",
       "Date                 \n",
       "2021-02-16  2574700  \n",
       "2021-02-17  3297500  \n",
       "2021-02-18  3027400  \n",
       "2021-02-19  4305200  \n",
       "2021-02-22  3515700  "
      ]
     },
     "execution_count": 45,
     "metadata": {},
     "output_type": "execute_result"
    }
   ],
   "source": [
    "data.head()"
   ]
  },
  {
   "cell_type": "markdown",
   "metadata": {},
   "source": [
    "- 데이터 안에는 날짜별 Open열(시가), High열(고가), Low열(저가), Close열(종가), Adj Close열은 수정 종가라는 뜻으로 분할, 배당, 배분, 신주 발생이 된 경우를 고려해 주식 가격을 조정(adjustment)해둔 가격입니다. Volume열은 거래량을 의미합니다."
   ]
  },
  {
   "cell_type": "code",
   "execution_count": 46,
   "metadata": {
    "colab": {
     "base_uri": "https://localhost:8080/",
     "height": 300
    },
    "id": "vnkQS7iHv9mv",
    "outputId": "81410bc5-6783-4034-933b-9f219576d199"
   },
   "outputs": [
    {
     "data": {
      "text/html": [
       "<div>\n",
       "<style scoped>\n",
       "    .dataframe tbody tr th:only-of-type {\n",
       "        vertical-align: middle;\n",
       "    }\n",
       "\n",
       "    .dataframe tbody tr th {\n",
       "        vertical-align: top;\n",
       "    }\n",
       "\n",
       "    .dataframe thead th {\n",
       "        text-align: right;\n",
       "    }\n",
       "</style>\n",
       "<table border=\"1\" class=\"dataframe\">\n",
       "  <thead>\n",
       "    <tr style=\"text-align: right;\">\n",
       "      <th></th>\n",
       "      <th>Open</th>\n",
       "      <th>High</th>\n",
       "      <th>Low</th>\n",
       "      <th>Close</th>\n",
       "      <th>Adj Close</th>\n",
       "      <th>Volume</th>\n",
       "    </tr>\n",
       "  </thead>\n",
       "  <tbody>\n",
       "    <tr>\n",
       "      <th>count</th>\n",
       "      <td>252.000000</td>\n",
       "      <td>252.000000</td>\n",
       "      <td>252.000000</td>\n",
       "      <td>252.000000</td>\n",
       "      <td>252.000000</td>\n",
       "      <td>2.520000e+02</td>\n",
       "    </tr>\n",
       "    <tr>\n",
       "      <th>mean</th>\n",
       "      <td>3330.873735</td>\n",
       "      <td>3365.181943</td>\n",
       "      <td>3293.679247</td>\n",
       "      <td>3328.156789</td>\n",
       "      <td>3328.156789</td>\n",
       "      <td>3.454088e+06</td>\n",
       "    </tr>\n",
       "    <tr>\n",
       "      <th>std</th>\n",
       "      <td>182.088841</td>\n",
       "      <td>181.265258</td>\n",
       "      <td>186.310593</td>\n",
       "      <td>184.448767</td>\n",
       "      <td>184.448767</td>\n",
       "      <td>1.409673e+06</td>\n",
       "    </tr>\n",
       "    <tr>\n",
       "      <th>min</th>\n",
       "      <td>2780.000000</td>\n",
       "      <td>2872.000000</td>\n",
       "      <td>2707.040039</td>\n",
       "      <td>2776.909912</td>\n",
       "      <td>2776.909912</td>\n",
       "      <td>1.680300e+06</td>\n",
       "    </tr>\n",
       "    <tr>\n",
       "      <th>25%</th>\n",
       "      <td>3215.007507</td>\n",
       "      <td>3253.110046</td>\n",
       "      <td>3198.762574</td>\n",
       "      <td>3223.887451</td>\n",
       "      <td>3223.887451</td>\n",
       "      <td>2.569525e+06</td>\n",
       "    </tr>\n",
       "    <tr>\n",
       "      <th>50%</th>\n",
       "      <td>3344.310059</td>\n",
       "      <td>3370.694946</td>\n",
       "      <td>3303.949951</td>\n",
       "      <td>3338.214966</td>\n",
       "      <td>3338.214966</td>\n",
       "      <td>3.157300e+06</td>\n",
       "    </tr>\n",
       "    <tr>\n",
       "      <th>75%</th>\n",
       "      <td>3452.164978</td>\n",
       "      <td>3483.845032</td>\n",
       "      <td>3415.632507</td>\n",
       "      <td>3448.374939</td>\n",
       "      <td>3448.374939</td>\n",
       "      <td>3.885700e+06</td>\n",
       "    </tr>\n",
       "    <tr>\n",
       "      <th>max</th>\n",
       "      <td>3744.000000</td>\n",
       "      <td>3773.080078</td>\n",
       "      <td>3696.790039</td>\n",
       "      <td>3731.409912</td>\n",
       "      <td>3731.409912</td>\n",
       "      <td>1.264050e+07</td>\n",
       "    </tr>\n",
       "  </tbody>\n",
       "</table>\n",
       "</div>"
      ],
      "text/plain": [
       "              Open         High          Low        Close    Adj Close  \\\n",
       "count   252.000000   252.000000   252.000000   252.000000   252.000000   \n",
       "mean   3330.873735  3365.181943  3293.679247  3328.156789  3328.156789   \n",
       "std     182.088841   181.265258   186.310593   184.448767   184.448767   \n",
       "min    2780.000000  2872.000000  2707.040039  2776.909912  2776.909912   \n",
       "25%    3215.007507  3253.110046  3198.762574  3223.887451  3223.887451   \n",
       "50%    3344.310059  3370.694946  3303.949951  3338.214966  3338.214966   \n",
       "75%    3452.164978  3483.845032  3415.632507  3448.374939  3448.374939   \n",
       "max    3744.000000  3773.080078  3696.790039  3731.409912  3731.409912   \n",
       "\n",
       "             Volume  \n",
       "count  2.520000e+02  \n",
       "mean   3.454088e+06  \n",
       "std    1.409673e+06  \n",
       "min    1.680300e+06  \n",
       "25%    2.569525e+06  \n",
       "50%    3.157300e+06  \n",
       "75%    3.885700e+06  \n",
       "max    1.264050e+07  "
      ]
     },
     "execution_count": 46,
     "metadata": {},
     "output_type": "execute_result"
    }
   ],
   "source": [
    "# 데이터 구조 확인\n",
    "data.describe()"
   ]
  },
  {
   "cell_type": "code",
   "execution_count": 47,
   "metadata": {
    "colab": {
     "base_uri": "https://localhost:8080/",
     "height": 320
    },
    "id": "cvAO_-IPv9mv",
    "outputId": "9649e9cd-9f4d-46de-d0cf-0708db48cd20"
   },
   "outputs": [
    {
     "data": {
      "image/png": "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\n",
      "text/plain": [
       "<Figure size 720x360 with 1 Axes>"
      ]
     },
     "metadata": {
      "needs_background": "light"
     },
     "output_type": "display_data"
    }
   ],
   "source": [
    "import matplotlib.pyplot as plt\n",
    "plt.figure(figsize=(10,5))\n",
    "plt.plot(data['Close'])\n",
    "plt.show()"
   ]
  },
  {
   "cell_type": "markdown",
   "metadata": {},
   "source": [
    "- 종가열을 보면 1년 중에 최근에 현재 주식 장이 많이 안좋은데 아마존 주식도 마찬가지로 2022년 2월(오른쪽) 그래프를 보시면 안좋은 것을 확인할 수 있습니다."
   ]
  },
  {
   "cell_type": "markdown",
   "metadata": {},
   "source": [
    "#### 1) DF 검정\n",
    "\n",
    "- Dickey-Fuller 단위근 검정(unit root test)는 ARIMA 모형의 적분 차수를 판단하기 위한 검정 방법의 하나입니다.\n",
    "- 이를 통해 일일 종가의 정상성 여부를 점검합니다."
   ]
  },
  {
   "cell_type": "code",
   "execution_count": 48,
   "metadata": {
    "colab": {
     "base_uri": "https://localhost:8080/"
    },
    "id": "CFte7qKIv9mw",
    "outputId": "cdba2b39-2344-4f02-e317-89f5126d9d1a"
   },
   "outputs": [
    {
     "data": {
      "text/plain": [
       "(-2.397814767782345,\n",
       " 0.14235412448217794,\n",
       " 0,\n",
       " 251,\n",
       " {'1%': -3.4566744514553016,\n",
       "  '5%': -2.8731248767783426,\n",
       "  '10%': -2.5729436702592023},\n",
       " 2585.693671407827)"
      ]
     },
     "execution_count": 48,
     "metadata": {},
     "output_type": "execute_result"
    }
   ],
   "source": [
    "#!pip install statsmodels\n",
    "from statsmodels.tsa.stattools import adfuller\n",
    "result=adfuller(data['Close'])\n",
    "result"
   ]
  },
  {
   "cell_type": "markdown",
   "metadata": {
    "id": "QjN2f77bcUMV"
   },
   "source": [
    "- p-value = 0.1423 입니다. 이는 0.05보다 크므로 귀무가설을 기각하지 못합니다.\n",
    "- 따라서 일일 종가는 비정상성과정입니다."
   ]
  },
  {
   "cell_type": "code",
   "execution_count": 49,
   "metadata": {
    "id": "0Cs44vGav9mw"
   },
   "outputs": [],
   "source": [
    "#!python -m pip install --upgrade pip"
   ]
  },
  {
   "cell_type": "code",
   "execution_count": 50,
   "metadata": {
    "colab": {
     "base_uri": "https://localhost:8080/",
     "height": 545
    },
    "id": "UnLhi7WEv9mw",
    "outputId": "c2f7a874-7ca7-467e-a2cd-c2617612d942"
   },
   "outputs": [
    {
     "data": {
      "image/png": "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\n",
      "text/plain": [
       "<Figure size 432x288 with 1 Axes>"
      ]
     },
     "metadata": {
      "needs_background": "light"
     },
     "output_type": "display_data"
    },
    {
     "data": {
      "image/png": "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\n",
      "text/plain": [
       "<Figure size 432x288 with 1 Axes>"
      ]
     },
     "metadata": {
      "needs_background": "light"
     },
     "output_type": "display_data"
    }
   ],
   "source": [
    "# 일일 종가의 자기상관함수 & 편자기상관함수\n",
    "from statsmodels.graphics.tsaplots import plot_acf, plot_pacf\n",
    "plot_acf(data['Close'])\n",
    "plot_pacf(data['Close'])\n",
    "plt.show()"
   ]
  },
  {
   "cell_type": "markdown",
   "metadata": {
    "id": "ZkiG_XxUc3t1"
   },
   "source": [
    "- acf plot을 살펴보면 선형적으로 느리게 감소하므로 일일 종가는 비정상시계열이라고 할 수 있다.\n",
    "- 이를 차분을 통해 정상시계열로 전환하여야 한다."
   ]
  },
  {
   "cell_type": "code",
   "execution_count": 51,
   "metadata": {
    "colab": {
     "base_uri": "https://localhost:8080/",
     "height": 485
    },
    "id": "B9LPRAQsv9mx",
    "outputId": "1519d6df-18d1-4a80-cffe-303946c01504"
   },
   "outputs": [
    {
     "name": "stdout",
     "output_type": "stream",
     "text": [
      "             Open        High         Low       Close   Adj Close      Volume\n",
      "count  251.000000  251.000000  251.000000  251.000000  251.000000  251.000000\n",
      "mean    -0.000113   -0.000158   -0.000251   -0.000256   -0.000256    0.001605\n",
      "std      0.018657    0.016452    0.017711    0.018596    0.018596    0.308887\n",
      "min     -0.089774   -0.077060   -0.079330   -0.081349   -0.081349   -1.088162\n",
      "25%     -0.009176   -0.007443   -0.009150   -0.009366   -0.009366   -0.188707\n",
      "50%      0.000938    0.000035    0.000580   -0.000037   -0.000037   -0.028074\n",
      "75%      0.009350    0.007871    0.008700    0.010400    0.010400    0.201873\n",
      "max      0.093354    0.111115    0.085017    0.126949    0.126949    0.948768\n"
     ]
    },
    {
     "data": {
      "image/png": "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\n",
      "text/plain": [
       "<Figure size 720x360 with 1 Axes>"
      ]
     },
     "metadata": {
      "needs_background": "light"
     },
     "output_type": "display_data"
    }
   ],
   "source": [
    "# 일일 로그수익률\n",
    "import numpy as np\n",
    "datapct = data.pct_change()\n",
    "log_data = np.log(1+datapct)\n",
    "log_data.head()\n",
    "print(log_data.describe())\n",
    "plt.figure(figsize = (10,5))\n",
    "plt.plot(log_data['Close'])\n",
    "plt.show()"
   ]
  },
  {
   "cell_type": "markdown",
   "metadata": {
    "id": "pffel3DtdVby"
   },
   "source": [
    "- 로그수익률의 plot을 그려봤을때 0을 중심으로 빠르게 움직이고 있음을 보이는 것을 확인하였습니다.\n",
    "\n",
    "- 따라서 데이터에 로그를 씌운 로그수익률은 정상시계열일 가능성이 높습니다. 이를 위에서 해주었던 Dickey-Fuller 검정을 이용하여 다시 한 번 확인해보겠습니다."
   ]
  },
  {
   "cell_type": "code",
   "execution_count": 52,
   "metadata": {
    "colab": {
     "base_uri": "https://localhost:8080/"
    },
    "id": "EQkcyCddv9my",
    "outputId": "4bb7f0ce-030b-41ec-f280-a203ba385354"
   },
   "outputs": [
    {
     "data": {
      "text/plain": [
       "(-16.205867661165264,\n",
       " 4.0328925837678174e-29,\n",
       " 0,\n",
       " 250,\n",
       " {'1%': -3.456780859712, '5%': -2.8731715065600003, '10%': -2.572968544},\n",
       " -1198.7634650584753)"
      ]
     },
     "execution_count": 52,
     "metadata": {},
     "output_type": "execute_result"
    }
   ],
   "source": [
    "from statsmodels.tsa.stattools import adfuller\n",
    "log_data = log_data.dropna()\n",
    "result = adfuller(log_data['Close'])\n",
    "result"
   ]
  },
  {
   "cell_type": "markdown",
   "metadata": {
    "id": "upWYhcE4dmhS"
   },
   "source": [
    "- p-value = $=4.0\\times10^{-29}$입니다. \n",
    "- 앞에서 p-값과는 다르다는 것을 확인할 수 있습니다. 이는 0.05보다 매우 작아 귀무가설을 기각합니다.\n",
    "\n",
    "- 따라서 일일 로그수익률은 정상시계열임을 확인할 수 있습니다."
   ]
  },
  {
   "cell_type": "code",
   "execution_count": 53,
   "metadata": {
    "colab": {
     "base_uri": "https://localhost:8080/",
     "height": 564
    },
    "id": "QhKigbB3v9my",
    "outputId": "8ed5ae49-3f49-48b8-bcd9-327462695925"
   },
   "outputs": [
    {
     "data": {
      "image/png": "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\n",
      "text/plain": [
       "<Figure size 432x288 with 1 Axes>"
      ]
     },
     "metadata": {
      "needs_background": "light"
     },
     "output_type": "display_data"
    },
    {
     "data": {
      "image/png": "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\n",
      "text/plain": [
       "<Figure size 432x288 with 1 Axes>"
      ]
     },
     "metadata": {
      "needs_background": "light"
     },
     "output_type": "display_data"
    },
    {
     "name": "stdout",
     "output_type": "stream",
     "text": [
      "<class 'pandas.core.frame.DataFrame'>\n"
     ]
    }
   ],
   "source": [
    "# 일일 로그수익률의 acf & pacf\n",
    "from statsmodels.graphics.tsaplots import plot_acf, plot_pacf\n",
    "plot_acf(log_data['Close'])\n",
    "plot_pacf(log_data['Close'])\n",
    "plt.show()\n",
    "print(type(log_data))"
   ]
  },
  {
   "cell_type": "code",
   "execution_count": 54,
   "metadata": {},
   "outputs": [
    {
     "data": {
      "text/html": [
       "<div>\n",
       "<style scoped>\n",
       "    .dataframe tbody tr th:only-of-type {\n",
       "        vertical-align: middle;\n",
       "    }\n",
       "\n",
       "    .dataframe tbody tr th {\n",
       "        vertical-align: top;\n",
       "    }\n",
       "\n",
       "    .dataframe thead th {\n",
       "        text-align: right;\n",
       "    }\n",
       "</style>\n",
       "<table border=\"1\" class=\"dataframe\">\n",
       "  <thead>\n",
       "    <tr style=\"text-align: right;\">\n",
       "      <th></th>\n",
       "      <th>Open</th>\n",
       "      <th>High</th>\n",
       "      <th>Low</th>\n",
       "      <th>Close</th>\n",
       "      <th>Adj Close</th>\n",
       "      <th>Volume</th>\n",
       "    </tr>\n",
       "    <tr>\n",
       "      <th>Date</th>\n",
       "      <th></th>\n",
       "      <th></th>\n",
       "      <th></th>\n",
       "      <th></th>\n",
       "      <th></th>\n",
       "      <th></th>\n",
       "    </tr>\n",
       "  </thead>\n",
       "  <tbody>\n",
       "    <tr>\n",
       "      <th>2021-02-17</th>\n",
       "      <td>0.002931</td>\n",
       "      <td>0.003804</td>\n",
       "      <td>0.001815</td>\n",
       "      <td>0.012068</td>\n",
       "      <td>0.012068</td>\n",
       "      <td>0.247432</td>\n",
       "    </tr>\n",
       "    <tr>\n",
       "      <th>2021-02-18</th>\n",
       "      <td>0.005750</td>\n",
       "      <td>0.005133</td>\n",
       "      <td>0.004420</td>\n",
       "      <td>0.005903</td>\n",
       "      <td>0.005903</td>\n",
       "      <td>-0.085460</td>\n",
       "    </tr>\n",
       "    <tr>\n",
       "      <th>2021-02-19</th>\n",
       "      <td>0.013860</td>\n",
       "      <td>-0.001349</td>\n",
       "      <td>-0.008648</td>\n",
       "      <td>-0.023816</td>\n",
       "      <td>-0.023816</td>\n",
       "      <td>0.352119</td>\n",
       "    </tr>\n",
       "    <tr>\n",
       "      <th>2021-02-22</th>\n",
       "      <td>-0.036752</td>\n",
       "      <td>-0.030823</td>\n",
       "      <td>-0.022902</td>\n",
       "      <td>-0.021510</td>\n",
       "      <td>-0.021510</td>\n",
       "      <td>-0.202585</td>\n",
       "    </tr>\n",
       "    <tr>\n",
       "      <th>2021-02-23</th>\n",
       "      <td>-0.025604</td>\n",
       "      <td>-0.008572</td>\n",
       "      <td>-0.025109</td>\n",
       "      <td>0.004317</td>\n",
       "      <td>0.004317</td>\n",
       "      <td>0.285461</td>\n",
       "    </tr>\n",
       "    <tr>\n",
       "      <th>...</th>\n",
       "      <td>...</td>\n",
       "      <td>...</td>\n",
       "      <td>...</td>\n",
       "      <td>...</td>\n",
       "      <td>...</td>\n",
       "      <td>...</td>\n",
       "    </tr>\n",
       "    <tr>\n",
       "      <th>2022-02-07</th>\n",
       "      <td>0.018550</td>\n",
       "      <td>0.009207</td>\n",
       "      <td>0.043156</td>\n",
       "      <td>0.001876</td>\n",
       "      <td>0.001876</td>\n",
       "      <td>-0.901566</td>\n",
       "    </tr>\n",
       "    <tr>\n",
       "      <th>2022-02-08</th>\n",
       "      <td>-0.011225</td>\n",
       "      <td>-0.005538</td>\n",
       "      <td>-0.010866</td>\n",
       "      <td>0.021783</td>\n",
       "      <td>0.021783</td>\n",
       "      <td>-0.299812</td>\n",
       "    </tr>\n",
       "    <tr>\n",
       "      <th>2022-02-09</th>\n",
       "      <td>0.038318</td>\n",
       "      <td>0.012542</td>\n",
       "      <td>0.029765</td>\n",
       "      <td>-0.001389</td>\n",
       "      <td>-0.001389</td>\n",
       "      <td>-0.100259</td>\n",
       "    </tr>\n",
       "    <tr>\n",
       "      <th>2022-02-10</th>\n",
       "      <td>-0.028166</td>\n",
       "      <td>-0.019215</td>\n",
       "      <td>-0.015724</td>\n",
       "      <td>-0.013654</td>\n",
       "      <td>-0.013654</td>\n",
       "      <td>-0.007559</td>\n",
       "    </tr>\n",
       "    <tr>\n",
       "      <th>2022-02-11</th>\n",
       "      <td>-0.001362</td>\n",
       "      <td>-0.010738</td>\n",
       "      <td>-0.032314</td>\n",
       "      <td>-0.036572</td>\n",
       "      <td>-0.036572</td>\n",
       "      <td>0.120780</td>\n",
       "    </tr>\n",
       "  </tbody>\n",
       "</table>\n",
       "<p>251 rows × 6 columns</p>\n",
       "</div>"
      ],
      "text/plain": [
       "                Open      High       Low     Close  Adj Close    Volume\n",
       "Date                                                                   \n",
       "2021-02-17  0.002931  0.003804  0.001815  0.012068   0.012068  0.247432\n",
       "2021-02-18  0.005750  0.005133  0.004420  0.005903   0.005903 -0.085460\n",
       "2021-02-19  0.013860 -0.001349 -0.008648 -0.023816  -0.023816  0.352119\n",
       "2021-02-22 -0.036752 -0.030823 -0.022902 -0.021510  -0.021510 -0.202585\n",
       "2021-02-23 -0.025604 -0.008572 -0.025109  0.004317   0.004317  0.285461\n",
       "...              ...       ...       ...       ...        ...       ...\n",
       "2022-02-07  0.018550  0.009207  0.043156  0.001876   0.001876 -0.901566\n",
       "2022-02-08 -0.011225 -0.005538 -0.010866  0.021783   0.021783 -0.299812\n",
       "2022-02-09  0.038318  0.012542  0.029765 -0.001389  -0.001389 -0.100259\n",
       "2022-02-10 -0.028166 -0.019215 -0.015724 -0.013654  -0.013654 -0.007559\n",
       "2022-02-11 -0.001362 -0.010738 -0.032314 -0.036572  -0.036572  0.120780\n",
       "\n",
       "[251 rows x 6 columns]"
      ]
     },
     "execution_count": 54,
     "metadata": {},
     "output_type": "execute_result"
    }
   ],
   "source": [
    "log_data"
   ]
  },
  {
   "cell_type": "markdown",
   "metadata": {},
   "source": []
  },
  {
   "cell_type": "code",
   "execution_count": 55,
   "metadata": {},
   "outputs": [
    {
     "name": "stdout",
     "output_type": "stream",
     "text": [
      "(1, 251)\n"
     ]
    }
   ],
   "source": [
    "log_data2 = log_data['Close'].values\n",
    "log_data2=log_data2.reshape(1,-1)\n",
    "print(log_data2.shape)"
   ]
  },
  {
   "cell_type": "code",
   "execution_count": 56,
   "metadata": {},
   "outputs": [],
   "source": [
    "inte = 24\n",
    "X=[]\n",
    "y=[]\n",
    "for i in range(log_data2.shape[1]):\n",
    "    if i + inte > log_data2.shape[1] - 1:\n",
    "        break\n",
    "    else:\n",
    "         xx=log_data2[0, i : i + inte]\n",
    "         X.append(xx)\n",
    "         yy=log_data2[0, i + inte]\n",
    "         y.append(yy)"
   ]
  },
  {
   "cell_type": "code",
   "execution_count": 57,
   "metadata": {},
   "outputs": [
    {
     "name": "stdout",
     "output_type": "stream",
     "text": [
      "<class 'list'>\n",
      "<class 'list'>\n",
      "(227, 24)\n",
      "(227,)\n"
     ]
    }
   ],
   "source": [
    "print(type(X))\n",
    "print(type(y))\n",
    "X=np.asarray(X)\n",
    "y=np.asarray(y)\n",
    "print(X.shape)\n",
    "print(y.shape)"
   ]
  },
  {
   "cell_type": "code",
   "execution_count": 58,
   "metadata": {
    "colab": {
     "base_uri": "https://localhost:8080/"
    },
    "id": "GjpRxjJUv9mz",
    "outputId": "2fb05474-b4e5-4222-b5e4-a053429efb04"
   },
   "outputs": [
    {
     "name": "stdout",
     "output_type": "stream",
     "text": [
      "(181, 24)\n",
      "(46, 24)\n",
      "(181,)\n",
      "(46,)\n"
     ]
    }
   ],
   "source": [
    "# 시계열 순서를 유지하는 x_train, x_test, y_train, y_test를 정의\n",
    "from sklearn.model_selection import train_test_split\n",
    "X_train, X_test, y_train, y_test = train_test_split(X, y, test_size = 0.2, shuffle=False)\n",
    "\n",
    "print(X_train.shape)\n",
    "print(X_test.shape)\n",
    "print(y_train.shape)\n",
    "print(y_test.shape)"
   ]
  },
  {
   "cell_type": "code",
   "execution_count": 59,
   "metadata": {
    "id": "OM4Ci55uv9mz",
    "outputId": "f3e65de5-c16c-417c-fa1e-ab6d6469fe20",
    "scrolled": true
   },
   "outputs": [],
   "source": [
    "# !pip install tensorflow==2.0.0"
   ]
  },
  {
   "cell_type": "markdown",
   "metadata": {},
   "source": [
    "#### 2) 모형 정의"
   ]
  },
  {
   "cell_type": "code",
   "execution_count": 60,
   "metadata": {
    "colab": {
     "base_uri": "https://localhost:8080/"
    },
    "id": "eng46NsDv9m0",
    "outputId": "4c0c32e9-ccf5-4bd8-ab47-d788c7248ed8"
   },
   "outputs": [
    {
     "name": "stdout",
     "output_type": "stream",
     "text": [
      "Epoch 1/30\n",
      "6/6 [==============================] - 1s 2ms/step - loss: 7.5521e-04 - mae: 0.0215\n",
      "Epoch 2/30\n",
      "6/6 [==============================] - 0s 1ms/step - loss: 7.4289e-04 - mae: 0.0213\n",
      "Epoch 3/30\n",
      "6/6 [==============================] - 0s 984us/step - loss: 6.8079e-04 - mae: 0.0198\n",
      "Epoch 4/30\n",
      "6/6 [==============================] - 0s 1ms/step - loss: 7.1860e-04 - mae: 0.0210\n",
      "Epoch 5/30\n",
      "6/6 [==============================] - 0s 646us/step - loss: 6.6061e-04 - mae: 0.0195\n",
      "Epoch 6/30\n",
      "6/6 [==============================] - 0s 744us/step - loss: 6.3761e-04 - mae: 0.0196\n",
      "Epoch 7/30\n",
      "6/6 [==============================] - 0s 600us/step - loss: 6.4190e-04 - mae: 0.0198\n",
      "Epoch 8/30\n",
      "6/6 [==============================] - 0s 851us/step - loss: 6.5874e-04 - mae: 0.0203\n",
      "Epoch 9/30\n",
      "6/6 [==============================] - 0s 858us/step - loss: 5.8365e-04 - mae: 0.0186\n",
      "Epoch 10/30\n",
      "6/6 [==============================] - 0s 961us/step - loss: 5.7119e-04 - mae: 0.0188\n",
      "Epoch 11/30\n",
      "6/6 [==============================] - 0s 665us/step - loss: 6.0040e-04 - mae: 0.0192\n",
      "Epoch 12/30\n",
      "6/6 [==============================] - 0s 917us/step - loss: 6.4114e-04 - mae: 0.0201\n",
      "Epoch 13/30\n",
      "6/6 [==============================] - 0s 771us/step - loss: 5.5740e-04 - mae: 0.0179\n",
      "Epoch 14/30\n",
      "6/6 [==============================] - 0s 737us/step - loss: 5.7737e-04 - mae: 0.0188\n",
      "Epoch 15/30\n",
      "6/6 [==============================] - 0s 838us/step - loss: 5.9982e-04 - mae: 0.0189\n",
      "Epoch 16/30\n",
      "6/6 [==============================] - 0s 768us/step - loss: 5.3261e-04 - mae: 0.0182\n",
      "Epoch 17/30\n",
      "6/6 [==============================] - 0s 1ms/step - loss: 5.6522e-04 - mae: 0.0184\n",
      "Epoch 18/30\n",
      "6/6 [==============================] - 0s 1ms/step - loss: 5.9042e-04 - mae: 0.0187\n",
      "Epoch 19/30\n",
      "6/6 [==============================] - 0s 812us/step - loss: 5.2216e-04 - mae: 0.0179\n",
      "Epoch 20/30\n",
      "6/6 [==============================] - 0s 708us/step - loss: 4.5051e-04 - mae: 0.0163\n",
      "Epoch 21/30\n",
      "6/6 [==============================] - 0s 851us/step - loss: 4.8396e-04 - mae: 0.0176\n",
      "Epoch 22/30\n",
      "6/6 [==============================] - 0s 1ms/step - loss: 5.1383e-04 - mae: 0.0177\n",
      "Epoch 23/30\n",
      "6/6 [==============================] - 0s 1ms/step - loss: 4.3791e-04 - mae: 0.0164\n",
      "Epoch 24/30\n",
      "6/6 [==============================] - 0s 929us/step - loss: 5.1979e-04 - mae: 0.0176\n",
      "Epoch 25/30\n",
      "6/6 [==============================] - 0s 665us/step - loss: 4.8951e-04 - mae: 0.0175\n",
      "Epoch 26/30\n",
      "6/6 [==============================] - 0s 924us/step - loss: 5.4427e-04 - mae: 0.0187\n",
      "Epoch 27/30\n",
      "6/6 [==============================] - 0s 1ms/step - loss: 4.6557e-04 - mae: 0.0168\n",
      "Epoch 28/30\n",
      "6/6 [==============================] - 0s 1ms/step - loss: 4.5112e-04 - mae: 0.0165\n",
      "Epoch 29/30\n",
      "6/6 [==============================] - 0s 776us/step - loss: 4.4207e-04 - mae: 0.0163\n",
      "Epoch 30/30\n",
      "6/6 [==============================] - 0s 888us/step - loss: 4.3641e-04 - mae: 0.0164\n",
      "6/6 [==============================] - 0s 1ms/step - loss: 4.1357e-04 - mae: 0.0159\n",
      "2/2 [==============================] - 0s 4ms/step - loss: 0.0013 - mae: 0.0238\n",
      "[0.0004135681956540793, 0.015881670638918877]\n",
      "[0.0013355572009459138, 0.02382555790245533]\n"
     ]
    }
   ],
   "source": [
    "from tensorflow.keras.models import Sequential\n",
    "from tensorflow.keras.layers import Dense,GRU,LSTM\n",
    "from tensorflow.keras import regularizers\n",
    "\n",
    "model1=Sequential()\n",
    "model1.add(Dense(1, input_shape=(24,)))\n",
    "model1.compile(optimizer='rmsprop', loss='mse', metrics=['mae'])\n",
    "model1.fit(X_train, y_train, epochs=30, batch_size=32)\n",
    "loss_acc=model1.evaluate(X_train, y_train)\n",
    "los_test=model1.evaluate(X_test, y_test)\n",
    "print(loss_acc)\n",
    "print(los_test)"
   ]
  },
  {
   "cell_type": "code",
   "execution_count": 61,
   "metadata": {},
   "outputs": [
    {
     "name": "stdout",
     "output_type": "stream",
     "text": [
      "Model: \"sequential_16\"\n",
      "_________________________________________________________________\n",
      "Layer (type)                 Output Shape              Param #   \n",
      "=================================================================\n",
      "dense_19 (Dense)             (None, 1)                 25        \n",
      "=================================================================\n",
      "Total params: 25\n",
      "Trainable params: 25\n",
      "Non-trainable params: 0\n",
      "_________________________________________________________________\n"
     ]
    }
   ],
   "source": [
    "model1.summary()"
   ]
  },
  {
   "cell_type": "markdown",
   "metadata": {
    "id": "XnLQ0vE3gRjr"
   },
   "source": [
    "- 종가를 예측하는 문제이기 때문에 mse(mean square error)를 이용하였습니다.\n",
    "- loss_acc = (0.00041, 0.015882)\n",
    "- MSE = 0.0001, MAE = 0.2382 <br>\n",
    "이렇게 결과가 나온 것을 확인할 수 있습니다."
   ]
  },
  {
   "cell_type": "code",
   "execution_count": 62,
   "metadata": {
    "colab": {
     "base_uri": "https://localhost:8080/"
    },
    "id": "Dzspaaacv9m0",
    "outputId": "3e2ea2eb-e77d-49dd-e443-7dc84ab41c29"
   },
   "outputs": [
    {
     "name": "stdout",
     "output_type": "stream",
     "text": [
      "Epoch 1/30\n",
      "6/6 [==============================] - 0s 1ms/step - loss: 2.4703e-04 - mae: 0.0115\n",
      "Epoch 2/30\n",
      "6/6 [==============================] - 0s 1ms/step - loss: 1.9108e-04 - mae: 0.0104\n",
      "Epoch 3/30\n",
      "6/6 [==============================] - 0s 1ms/step - loss: 2.2379e-04 - mae: 0.0116\n",
      "Epoch 4/30\n",
      "6/6 [==============================] - 0s 916us/step - loss: 1.7961e-04 - mae: 0.0102\n",
      "Epoch 5/30\n",
      "6/6 [==============================] - 0s 1ms/step - loss: 2.0503e-04 - mae: 0.0105\n",
      "Epoch 6/30\n",
      "6/6 [==============================] - 0s 686us/step - loss: 1.8741e-04 - mae: 0.0103\n",
      "Epoch 7/30\n",
      "6/6 [==============================] - 0s 1ms/step - loss: 2.1675e-04 - mae: 0.0110\n",
      "Epoch 8/30\n",
      "6/6 [==============================] - 0s 744us/step - loss: 1.6040e-04 - mae: 0.0095\n",
      "Epoch 9/30\n",
      "6/6 [==============================] - 0s 906us/step - loss: 2.2507e-04 - mae: 0.0111\n",
      "Epoch 10/30\n",
      "6/6 [==============================] - 0s 858us/step - loss: 1.8765e-04 - mae: 0.0098\n",
      "Epoch 11/30\n",
      "6/6 [==============================] - 0s 697us/step - loss: 1.9632e-04 - mae: 0.0104\n",
      "Epoch 12/30\n",
      "6/6 [==============================] - 0s 852us/step - loss: 1.8277e-04 - mae: 0.0101\n",
      "Epoch 13/30\n",
      "6/6 [==============================] - 0s 835us/step - loss: 1.8003e-04 - mae: 0.0099\n",
      "Epoch 14/30\n",
      "6/6 [==============================] - 0s 1ms/step - loss: 1.6219e-04 - mae: 0.0091\n",
      "Epoch 15/30\n",
      "6/6 [==============================] - 0s 602us/step - loss: 2.1749e-04 - mae: 0.0107\n",
      "Epoch 16/30\n",
      "6/6 [==============================] - 0s 747us/step - loss: 1.4102e-04 - mae: 0.0087\n",
      "Epoch 17/30\n",
      "6/6 [==============================] - 0s 837us/step - loss: 1.6737e-04 - mae: 0.0097\n",
      "Epoch 18/30\n",
      "6/6 [==============================] - 0s 753us/step - loss: 1.4716e-04 - mae: 0.0088\n",
      "Epoch 19/30\n",
      "6/6 [==============================] - 0s 714us/step - loss: 1.5233e-04 - mae: 0.0090\n",
      "Epoch 20/30\n",
      "6/6 [==============================] - 0s 946us/step - loss: 1.8928e-04 - mae: 0.0102\n",
      "Epoch 21/30\n",
      "6/6 [==============================] - 0s 922us/step - loss: 1.5590e-04 - mae: 0.0091\n",
      "Epoch 22/30\n",
      "6/6 [==============================] - 0s 1ms/step - loss: 1.5141e-04 - mae: 0.0094\n",
      "Epoch 23/30\n",
      "6/6 [==============================] - 0s 653us/step - loss: 1.6365e-04 - mae: 0.0090\n",
      "Epoch 24/30\n",
      "6/6 [==============================] - 0s 686us/step - loss: 1.3648e-04 - mae: 0.0086\n",
      "Epoch 25/30\n",
      "6/6 [==============================] - 0s 1ms/step - loss: 1.9335e-04 - mae: 0.0103\n",
      "Epoch 26/30\n",
      "6/6 [==============================] - 0s 661us/step - loss: 1.5814e-04 - mae: 0.0090\n",
      "Epoch 27/30\n",
      "6/6 [==============================] - 0s 1ms/step - loss: 1.3993e-04 - mae: 0.0087\n",
      "Epoch 28/30\n",
      "6/6 [==============================] - 0s 762us/step - loss: 1.6904e-04 - mae: 0.0093\n",
      "Epoch 29/30\n",
      "6/6 [==============================] - 0s 836us/step - loss: 1.2403e-04 - mae: 0.0084\n",
      "Epoch 30/30\n",
      "6/6 [==============================] - 0s 798us/step - loss: 1.5226e-04 - mae: 0.0085\n",
      "6/6 [==============================] - 0s 1ms/step - loss: 1.3330e-04 - mae: 0.0084\n",
      "2/2 [==============================] - 0s 3ms/step - loss: 9.4312e-04 - mae: 0.0200\n",
      "[0.00013330178626347333, 0.008401698432862759]\n",
      "[0.0009431230137124658, 0.01998875103890896]\n"
     ]
    }
   ],
   "source": [
    "# MLP 모형에 은닉층 하나 추가\n",
    "from tensorflow.keras.models import Sequential\n",
    "from tensorflow.keras.layers import Dense,GRU,LSTM\n",
    "\n",
    "model2=Sequential()\n",
    "model2.add(Dense(32,activation='relu',input_shape=(24,)))\n",
    "model2.add(Dense(1))                \n",
    "\n",
    "model2.compile(optimizer='rmsprop', loss='mse',metrics=['mae'])\n",
    "model2.fit(X_train, y_train, epochs=30, batch_size=32)\n",
    "loss_acc=model2.evaluate(X_train, y_train)\n",
    "los_test=model2.evaluate(X_test, y_test)\n",
    "print(loss_acc)\n",
    "print(los_test)"
   ]
  },
  {
   "cell_type": "code",
   "execution_count": 63,
   "metadata": {},
   "outputs": [
    {
     "name": "stdout",
     "output_type": "stream",
     "text": [
      "Model: \"sequential_17\"\n",
      "_________________________________________________________________\n",
      "Layer (type)                 Output Shape              Param #   \n",
      "=================================================================\n",
      "dense_20 (Dense)             (None, 32)                800       \n",
      "_________________________________________________________________\n",
      "dense_21 (Dense)             (None, 1)                 33        \n",
      "=================================================================\n",
      "Total params: 833\n",
      "Trainable params: 833\n",
      "Non-trainable params: 0\n",
      "_________________________________________________________________\n"
     ]
    }
   ],
   "source": [
    "model2.summary()"
   ]
  },
  {
   "cell_type": "markdown",
   "metadata": {
    "id": "hg_eyqYyg6rS"
   },
   "source": [
    "- loss_acc = (0.000133, 0.008401)\n",
    "- MSE = 0.0009, MAE = 0.02\n",
    "- 앞의 은닉층이 하나도 없는 모형보다 MAE 기준으로 좋다고 평가할 수 있습니다."
   ]
  },
  {
   "cell_type": "code",
   "execution_count": 64,
   "metadata": {
    "colab": {
     "base_uri": "https://localhost:8080/"
    },
    "id": "iSXy59pWv9m0",
    "outputId": "a1d08e37-a39e-49e0-f779-404a457d335b"
   },
   "outputs": [
    {
     "name": "stdout",
     "output_type": "stream",
     "text": [
      "Epoch 1/30\n",
      "6/6 [==============================] - 2s 2ms/step - loss: 2.2128e-04 - mae: 0.0115\n",
      "Epoch 2/30\n",
      "6/6 [==============================] - 0s 1ms/step - loss: 1.9319e-04 - mae: 0.0103\n",
      "Epoch 3/30\n",
      "6/6 [==============================] - 0s 1ms/step - loss: 2.2075e-04 - mae: 0.0108\n",
      "Epoch 4/30\n",
      "6/6 [==============================] - 0s 2ms/step - loss: 1.9877e-04 - mae: 0.0106\n",
      "Epoch 5/30\n",
      "6/6 [==============================] - 0s 1ms/step - loss: 2.4600e-04 - mae: 0.0112\n",
      "Epoch 6/30\n",
      "6/6 [==============================] - 0s 1ms/step - loss: 1.9389e-04 - mae: 0.0099\n",
      "Epoch 7/30\n",
      "6/6 [==============================] - 0s 2ms/step - loss: 2.1154e-04 - mae: 0.0108\n",
      "Epoch 8/30\n",
      "6/6 [==============================] - 0s 2ms/step - loss: 1.9406e-04 - mae: 0.0108\n",
      "Epoch 9/30\n",
      "6/6 [==============================] - 0s 2ms/step - loss: 2.0377e-04 - mae: 0.0109\n",
      "Epoch 10/30\n",
      "6/6 [==============================] - 0s 2ms/step - loss: 1.9501e-04 - mae: 0.0110\n",
      "Epoch 11/30\n",
      "6/6 [==============================] - 0s 2ms/step - loss: 2.1310e-04 - mae: 0.0108\n",
      "Epoch 12/30\n",
      "6/6 [==============================] - 0s 1ms/step - loss: 2.4838e-04 - mae: 0.0115\n",
      "Epoch 13/30\n",
      "6/6 [==============================] - 0s 1ms/step - loss: 1.9760e-04 - mae: 0.0104\n",
      "Epoch 14/30\n",
      "6/6 [==============================] - 0s 2ms/step - loss: 1.9459e-04 - mae: 0.0107\n",
      "Epoch 15/30\n",
      "6/6 [==============================] - 0s 2ms/step - loss: 1.8724e-04 - mae: 0.0099\n",
      "Epoch 16/30\n",
      "6/6 [==============================] - 0s 2ms/step - loss: 1.8933e-04 - mae: 0.0104\n",
      "Epoch 17/30\n",
      "6/6 [==============================] - 0s 3ms/step - loss: 1.8501e-04 - mae: 0.0101\n",
      "Epoch 18/30\n",
      "6/6 [==============================] - 0s 3ms/step - loss: 1.7653e-04 - mae: 0.0100\n",
      "Epoch 19/30\n",
      "6/6 [==============================] - 0s 3ms/step - loss: 2.0749e-04 - mae: 0.0108\n",
      "Epoch 20/30\n",
      "6/6 [==============================] - 0s 2ms/step - loss: 1.6630e-04 - mae: 0.0098\n",
      "Epoch 21/30\n",
      "6/6 [==============================] - 0s 2ms/step - loss: 2.0299e-04 - mae: 0.0105\n",
      "Epoch 22/30\n",
      "6/6 [==============================] - 0s 2ms/step - loss: 2.3531e-04 - mae: 0.0112\n",
      "Epoch 23/30\n",
      "6/6 [==============================] - 0s 2ms/step - loss: 1.8669e-04 - mae: 0.0103\n",
      "Epoch 24/30\n",
      "6/6 [==============================] - 0s 1ms/step - loss: 1.9119e-04 - mae: 0.0106\n",
      "Epoch 25/30\n",
      "6/6 [==============================] - 0s 1ms/step - loss: 1.9983e-04 - mae: 0.0107\n",
      "Epoch 26/30\n",
      "6/6 [==============================] - 0s 2ms/step - loss: 2.0490e-04 - mae: 0.0109\n",
      "Epoch 27/30\n",
      "6/6 [==============================] - 0s 2ms/step - loss: 1.9105e-04 - mae: 0.0106\n",
      "Epoch 28/30\n",
      "6/6 [==============================] - 0s 1ms/step - loss: 1.8754e-04 - mae: 0.0104\n",
      "Epoch 29/30\n",
      "6/6 [==============================] - 0s 2ms/step - loss: 2.5395e-04 - mae: 0.0115\n",
      "Epoch 30/30\n",
      "6/6 [==============================] - 0s 1ms/step - loss: 1.9508e-04 - mae: 0.0108\n",
      "6/6 [==============================] - 0s 1ms/step - loss: 1.9990e-04 - mae: 0.0105\n",
      "2/2 [==============================] - 0s 3ms/step - loss: 9.7298e-04 - mae: 0.0211\n",
      "[0.00019990008149761707, 0.01049740705639124]\n",
      "[0.0009729798184707761, 0.02112843096256256]\n"
     ]
    }
   ],
   "source": [
    "# LSTM 모형 적용\n",
    "X_train=X_train.reshape(-1,1,24)\n",
    "X_test=X_test.reshape(-1,1,24)\n",
    "\n",
    "from tensorflow.keras.models import Sequential\n",
    "from tensorflow.keras.layers import Dense,GRU,LSTM\n",
    "\n",
    "model3 = Sequential()\n",
    "model3.add(LSTM(32, input_shape=(1,24)))\n",
    "model3.add(Dense(1))\n",
    "model3.compile(optimizer='rmsprop', loss='mse',metrics=['mae'])\n",
    "model3.fit(X_train, y_train, epochs=30, batch_size=32)\n",
    "loss_acc = model3.evaluate(X_train, y_train)\n",
    "los_test = model3.evaluate(X_test, y_test)\n",
    "print(loss_acc)\n",
    "print(los_test)"
   ]
  },
  {
   "cell_type": "code",
   "execution_count": 65,
   "metadata": {},
   "outputs": [
    {
     "name": "stdout",
     "output_type": "stream",
     "text": [
      "Model: \"sequential_18\"\n",
      "_________________________________________________________________\n",
      "Layer (type)                 Output Shape              Param #   \n",
      "=================================================================\n",
      "lstm_5 (LSTM)                (None, 32)                7296      \n",
      "_________________________________________________________________\n",
      "dense_22 (Dense)             (None, 1)                 33        \n",
      "=================================================================\n",
      "Total params: 7,329\n",
      "Trainable params: 7,329\n",
      "Non-trainable params: 0\n",
      "_________________________________________________________________\n"
     ]
    }
   ],
   "source": [
    "model3.summary()"
   ]
  },
  {
   "cell_type": "code",
   "execution_count": 66,
   "metadata": {
    "colab": {
     "base_uri": "https://localhost:8080/"
    },
    "id": "aiJFkAM1v9m1",
    "outputId": "936691e5-5048-45f8-d37f-d90884461173"
   },
   "outputs": [
    {
     "name": "stdout",
     "output_type": "stream",
     "text": [
      "Epoch 1/30\n",
      "6/6 [==============================] - 2s 2ms/step - loss: 2.9588e-04 - mae: 0.0136\n",
      "Epoch 2/30\n",
      "6/6 [==============================] - 0s 2ms/step - loss: 2.3518e-04 - mae: 0.0117\n",
      "Epoch 3/30\n",
      "6/6 [==============================] - 0s 1ms/step - loss: 2.7860e-04 - mae: 0.0119\n",
      "Epoch 4/30\n",
      "6/6 [==============================] - 0s 1ms/step - loss: 2.4132e-04 - mae: 0.0113\n",
      "Epoch 5/30\n",
      "6/6 [==============================] - 0s 2ms/step - loss: 2.6388e-04 - mae: 0.0115\n",
      "Epoch 6/30\n",
      "6/6 [==============================] - 0s 1ms/step - loss: 2.3159e-04 - mae: 0.0110\n",
      "Epoch 7/30\n",
      "6/6 [==============================] - 0s 1ms/step - loss: 2.0933e-04 - mae: 0.0103\n",
      "Epoch 8/30\n",
      "6/6 [==============================] - 0s 2ms/step - loss: 2.3296e-04 - mae: 0.0113\n",
      "Epoch 9/30\n",
      "6/6 [==============================] - 0s 1ms/step - loss: 1.8898e-04 - mae: 0.0103\n",
      "Epoch 10/30\n",
      "6/6 [==============================] - 0s 1ms/step - loss: 2.1848e-04 - mae: 0.0103\n",
      "Epoch 11/30\n",
      "6/6 [==============================] - 0s 2ms/step - loss: 2.6338e-04 - mae: 0.0116\n",
      "Epoch 12/30\n",
      "6/6 [==============================] - 0s 2ms/step - loss: 1.9555e-04 - mae: 0.0107\n",
      "Epoch 13/30\n",
      "6/6 [==============================] - 0s 1ms/step - loss: 2.0026e-04 - mae: 0.0106\n",
      "Epoch 14/30\n",
      "6/6 [==============================] - 0s 2ms/step - loss: 1.8953e-04 - mae: 0.0101\n",
      "Epoch 15/30\n",
      "6/6 [==============================] - 0s 2ms/step - loss: 2.3525e-04 - mae: 0.0110\n",
      "Epoch 16/30\n",
      "6/6 [==============================] - 0s 1ms/step - loss: 2.8688e-04 - mae: 0.0122\n",
      "Epoch 17/30\n",
      "6/6 [==============================] - 0s 2ms/step - loss: 2.0053e-04 - mae: 0.0104\n",
      "Epoch 18/30\n",
      "6/6 [==============================] - 0s 2ms/step - loss: 2.4059e-04 - mae: 0.0111\n",
      "Epoch 19/30\n",
      "6/6 [==============================] - 0s 2ms/step - loss: 2.0926e-04 - mae: 0.0110\n",
      "Epoch 20/30\n",
      "6/6 [==============================] - 0s 2ms/step - loss: 2.4972e-04 - mae: 0.0115\n",
      "Epoch 21/30\n",
      "6/6 [==============================] - 0s 2ms/step - loss: 2.0267e-04 - mae: 0.0109\n",
      "Epoch 22/30\n",
      "6/6 [==============================] - 0s 2ms/step - loss: 2.1785e-04 - mae: 0.0108\n",
      "Epoch 23/30\n",
      "6/6 [==============================] - 0s 3ms/step - loss: 1.9283e-04 - mae: 0.0104\n",
      "Epoch 24/30\n",
      "6/6 [==============================] - 0s 3ms/step - loss: 2.2365e-04 - mae: 0.0114\n",
      "Epoch 25/30\n",
      "6/6 [==============================] - 0s 2ms/step - loss: 2.2486e-04 - mae: 0.0108\n",
      "Epoch 26/30\n",
      "6/6 [==============================] - 0s 2ms/step - loss: 1.6515e-04 - mae: 0.0099\n",
      "Epoch 27/30\n",
      "6/6 [==============================] - 0s 2ms/step - loss: 2.4838e-04 - mae: 0.0114\n",
      "Epoch 28/30\n",
      "6/6 [==============================] - 0s 2ms/step - loss: 1.9465e-04 - mae: 0.0103\n",
      "Epoch 29/30\n",
      "6/6 [==============================] - 0s 1ms/step - loss: 1.8561e-04 - mae: 0.0106\n",
      "Epoch 30/30\n",
      "6/6 [==============================] - 0s 1ms/step - loss: 2.1138e-04 - mae: 0.0111\n",
      "6/6 [==============================] - 0s 1ms/step - loss: 1.9531e-04 - mae: 0.0105\n",
      "2/2 [==============================] - 0s 2ms/step - loss: 9.7379e-04 - mae: 0.0198\n",
      "[0.0001953102182596922, 0.010456280782818794]\n",
      "[0.0009737896616570652, 0.01979377306997776]\n"
     ]
    }
   ],
   "source": [
    "# GRU 모형 적용\n",
    "model4 = Sequential()\n",
    "model4.add(GRU(32, input_shape=(1,24)))\n",
    "model4.add(Dense(1))\n",
    "model4.compile(optimizer='rmsprop', loss='mse', metrics=['mae'])\n",
    "model4.fit(X_train, y_train, epochs=30, batch_size=32)\n",
    "loss_acc=model4.evaluate(X_train, y_train)\n",
    "los_test=model4.evaluate(X_test, y_test)\n",
    "print(loss_acc)\n",
    "print(los_test)"
   ]
  },
  {
   "cell_type": "code",
   "execution_count": 67,
   "metadata": {},
   "outputs": [
    {
     "name": "stdout",
     "output_type": "stream",
     "text": [
      "Model: \"sequential_19\"\n",
      "_________________________________________________________________\n",
      "Layer (type)                 Output Shape              Param #   \n",
      "=================================================================\n",
      "gru_2 (GRU)                  (None, 32)                5568      \n",
      "_________________________________________________________________\n",
      "dense_23 (Dense)             (None, 1)                 33        \n",
      "=================================================================\n",
      "Total params: 5,601\n",
      "Trainable params: 5,601\n",
      "Non-trainable params: 0\n",
      "_________________________________________________________________\n"
     ]
    }
   ],
   "source": [
    "model4.summary()"
   ]
  },
  {
   "cell_type": "code",
   "execution_count": 69,
   "metadata": {},
   "outputs": [
    {
     "name": "stdout",
     "output_type": "stream",
     "text": [
      "Epoch 1/30\n",
      "6/6 [==============================] - 3s 2ms/step - loss: 0.0014 - mae: 0.0269 \n",
      "Epoch 2/30\n",
      "6/6 [==============================] - 0s 2ms/step - loss: 3.5042e-04 - mae: 0.0142\n",
      "Epoch 3/30\n",
      "6/6 [==============================] - 0s 2ms/step - loss: 3.1457e-04 - mae: 0.0135\n",
      "Epoch 4/30\n",
      "6/6 [==============================] - 0s 2ms/step - loss: 2.8073e-04 - mae: 0.0132\n",
      "Epoch 5/30\n",
      "6/6 [==============================] - 0s 2ms/step - loss: 3.7481e-04 - mae: 0.0151\n",
      "Epoch 6/30\n",
      "6/6 [==============================] - 0s 2ms/step - loss: 2.7278e-04 - mae: 0.0123\n",
      "Epoch 7/30\n",
      "6/6 [==============================] - 0s 1ms/step - loss: 2.9728e-04 - mae: 0.0134\n",
      "Epoch 8/30\n",
      "6/6 [==============================] - 0s 2ms/step - loss: 2.5684e-04 - mae: 0.0120\n",
      "Epoch 9/30\n",
      "6/6 [==============================] - 0s 2ms/step - loss: 2.8412e-04 - mae: 0.0130\n",
      "Epoch 10/30\n",
      "6/6 [==============================] - 0s 1ms/step - loss: 3.6346e-04 - mae: 0.0148\n",
      "Epoch 11/30\n",
      "6/6 [==============================] - 0s 2ms/step - loss: 2.1343e-04 - mae: 0.0116\n",
      "Epoch 12/30\n",
      "6/6 [==============================] - 0s 2ms/step - loss: 2.8768e-04 - mae: 0.0135\n",
      "Epoch 13/30\n",
      "6/6 [==============================] - 0s 2ms/step - loss: 2.5301e-04 - mae: 0.0121\n",
      "Epoch 14/30\n",
      "6/6 [==============================] - 0s 1ms/step - loss: 2.3551e-04 - mae: 0.0120\n",
      "Epoch 15/30\n",
      "6/6 [==============================] - 0s 2ms/step - loss: 2.9311e-04 - mae: 0.0134\n",
      "Epoch 16/30\n",
      "6/6 [==============================] - 0s 1ms/step - loss: 3.0183e-04 - mae: 0.0137\n",
      "Epoch 17/30\n",
      "6/6 [==============================] - 0s 2ms/step - loss: 2.0046e-04 - mae: 0.0110\n",
      "Epoch 18/30\n",
      "6/6 [==============================] - 0s 2ms/step - loss: 2.3805e-04 - mae: 0.0119\n",
      "Epoch 19/30\n",
      "6/6 [==============================] - 0s 2ms/step - loss: 2.4841e-04 - mae: 0.0127\n",
      "Epoch 20/30\n",
      "6/6 [==============================] - 0s 2ms/step - loss: 2.2499e-04 - mae: 0.0115\n",
      "Epoch 21/30\n",
      "6/6 [==============================] - 0s 2ms/step - loss: 2.8255e-04 - mae: 0.0126\n",
      "Epoch 22/30\n",
      "6/6 [==============================] - 0s 1ms/step - loss: 2.1785e-04 - mae: 0.0114\n",
      "Epoch 23/30\n",
      "6/6 [==============================] - 0s 2ms/step - loss: 2.0284e-04 - mae: 0.0110\n",
      "Epoch 24/30\n",
      "6/6 [==============================] - 0s 1ms/step - loss: 2.2280e-04 - mae: 0.0108\n",
      "Epoch 25/30\n",
      "6/6 [==============================] - 0s 2ms/step - loss: 1.9919e-04 - mae: 0.0102\n",
      "Epoch 26/30\n",
      "6/6 [==============================] - 0s 2ms/step - loss: 3.9681e-04 - mae: 0.0160\n",
      "Epoch 27/30\n",
      "6/6 [==============================] - 0s 2ms/step - loss: 1.9381e-04 - mae: 0.0104\n",
      "Epoch 28/30\n",
      "6/6 [==============================] - 0s 2ms/step - loss: 2.5538e-04 - mae: 0.0117\n",
      "Epoch 29/30\n",
      "6/6 [==============================] - 0s 2ms/step - loss: 2.3802e-04 - mae: 0.0114\n",
      "Epoch 30/30\n",
      "6/6 [==============================] - 0s 2ms/step - loss: 2.2927e-04 - mae: 0.0118\n",
      "6/6 [==============================] - 1s 1ms/step - loss: 3.4091e-04 - mae: 0.0152\n",
      "2/2 [==============================] - 0s 2ms/step - loss: 9.8335e-04 - mae: 0.0188\n",
      "[0.00034091356792487204, 0.015181274153292179]\n",
      "[0.0009833496296778321, 0.018764059990644455]\n"
     ]
    }
   ],
   "source": [
    "# GRU 모형에 층 추가 적용\n",
    "model5 = Sequential()\n",
    "model5.add(GRU(32, input_shape=(1,24)))\n",
    "model5.add(Dense(16))\n",
    "model5.add(Dense(8))\n",
    "model5.add(Dense(1))\n",
    "model5.compile(optimizer='rmsprop', loss='mse', metrics=['mae'])\n",
    "model5.fit(X_train, y_train, epochs=30, batch_size=32)\n",
    "loss_acc = model5.evaluate(X_train, y_train)\n",
    "los_test = model5.evaluate(X_test, y_test)\n",
    "print(loss_acc)\n",
    "print(los_test)"
   ]
  },
  {
   "cell_type": "markdown",
   "metadata": {
    "id": "HLIr25Elv9m1"
   },
 "metadata": {
  "colab": {
   "collapsed_sections": [],
   "name": "RNN_시계열.ipynb",
   "provenance": []
  },
  "kernelspec": {
   "display_name": "Python 3",
   "language": "python",
   "name": "python3"
  },
  "language_info": {
   "codemirror_mode": {
    "name": "ipython",
    "version": 3
   },
   "file_extension": ".py",
   "mimetype": "text/x-python",
   "name": "python",
   "nbconvert_exporter": "python",
   "pygments_lexer": "ipython3",
   "version": "3.8.5"
  }
 },
 "nbformat": 4,
 "nbformat_minor": 1
}




